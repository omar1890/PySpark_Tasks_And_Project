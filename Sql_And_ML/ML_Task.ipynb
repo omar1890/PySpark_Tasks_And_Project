{
 "cells": [
  {
   "cell_type": "markdown",
   "metadata": {
    "id": "MYD0wGPRi1FO"
   },
   "source": [
    "## Task 4"
   ]
  },
  {
   "cell_type": "markdown",
   "metadata": {
    "id": "lJLc1PY1i-Np"
   },
   "source": [
    "You've been flown to their headquarters in Ulsan, South Korea, to assist them in accurately estimating the number of crew members a ship will need.\n"
   ]
  },
  {
   "cell_type": "markdown",
   "metadata": {
    "id": "8PEoknoejL4r"
   },
   "source": [
    "They're currently building new ships for certain customers, and they'd like you to create a model and utilize it to estimate how many crew members the ships will require.\n"
   ]
  },
  {
   "cell_type": "markdown",
   "metadata": {
    "id": "70slYH-tjR81"
   },
   "source": [
    "Metadata:\n",
    "1. Measurements of ship size \n",
    "2. capacity \n",
    "3. crew \n",
    "4. age for 158 cruise ships."
   ]
  },
  {
   "cell_type": "code",
   "execution_count": 1,
   "metadata": {},
   "outputs": [],
   "source": [
    "import findspark\n",
    "findspark.init()\n",
    "import pyspark\n",
    "from pyspark.sql import SparkSession\n",
    "spark = SparkSession.builder.appName('Crew_Members_Predictor').getOrCreate()"
   ]
  },
  {
   "cell_type": "markdown",
   "metadata": {
    "id": "5ZzrhGnHkRCU"
   },
   "source": [
    "It is saved in a csv file for you called \"ITI_data.csv\". our task is to develop a regression model that will assist in predicting the number of crew members required for future ships. The client also indicated that they have found that particular cruise lines will differ in acceptable crew counts, thus this is most likely an important factor to consider when conducting your investigation."
   ]
  },
  {
   "cell_type": "code",
   "execution_count": 2,
   "metadata": {
    "id": "A9CZzWWqZnOC"
   },
   "outputs": [
    {
     "name": "stdout",
     "output_type": "stream",
     "text": [
      "+-----------+-----------+---+------------------+----------+------+------+-----------------+----+\n",
      "|  Ship_name|Cruise_line|Age|           Tonnage|passengers|length|cabins|passenger_density|crew|\n",
      "+-----------+-----------+---+------------------+----------+------+------+-----------------+----+\n",
      "|    Journey|    Azamara|  6|30.276999999999997|      6.94|  5.94|  3.55|            42.64|3.55|\n",
      "|      Quest|    Azamara|  6|30.276999999999997|      6.94|  5.94|  3.55|            42.64|3.55|\n",
      "|Celebration|   Carnival| 26|            47.262|     14.86|  7.22|  7.43|             31.8| 6.7|\n",
      "|   Conquest|   Carnival| 11|             110.0|     29.74|  9.53| 14.88|            36.99|19.1|\n",
      "|    Destiny|   Carnival| 17|           101.353|     26.42|  8.92| 13.21|            38.36|10.0|\n",
      "+-----------+-----------+---+------------------+----------+------+------+-----------------+----+\n",
      "only showing top 5 rows\n",
      "\n"
     ]
    }
   ],
   "source": [
    "df = spark.read.csv('ITI_data.csv',header=True,inferSchema=True)\n",
    "df.show(5)"
   ]
  },
  {
   "cell_type": "code",
   "execution_count": 15,
   "metadata": {},
   "outputs": [
    {
     "name": "stdout",
     "output_type": "stream",
     "text": [
      "+---------------------------+\n",
      "|count(DISTINCT Cruise_line)|\n",
      "+---------------------------+\n",
      "|                         20|\n",
      "+---------------------------+\n",
      "\n"
     ]
    }
   ],
   "source": [
    "from pyspark.sql.functions import countDistinct\n",
    "df.select(countDistinct(\"Cruise_line\")).show()"
   ]
  },
  {
   "cell_type": "code",
   "execution_count": 16,
   "metadata": {},
   "outputs": [
    {
     "name": "stdout",
     "output_type": "stream",
     "text": [
      "root\n",
      " |-- Ship_name: string (nullable = true)\n",
      " |-- Cruise_line: string (nullable = true)\n",
      " |-- Age: integer (nullable = true)\n",
      " |-- Tonnage: double (nullable = true)\n",
      " |-- passengers: double (nullable = true)\n",
      " |-- length: double (nullable = true)\n",
      " |-- cabins: double (nullable = true)\n",
      " |-- passenger_density: double (nullable = true)\n",
      " |-- crew: double (nullable = true)\n",
      "\n"
     ]
    }
   ],
   "source": [
    "df.printSchema()"
   ]
  },
  {
   "cell_type": "code",
   "execution_count": 17,
   "metadata": {},
   "outputs": [
    {
     "data": {
      "text/plain": [
       "158"
      ]
     },
     "execution_count": 17,
     "metadata": {},
     "output_type": "execute_result"
    }
   ],
   "source": [
    "df.count()"
   ]
  },
  {
   "cell_type": "markdown",
   "metadata": {
    "id": "1QTNLhZSlf9_"
   },
   "source": [
    "### OneHotEncoder \n"
   ]
  },
  {
   "cell_type": "code",
   "execution_count": 18,
   "metadata": {},
   "outputs": [],
   "source": [
    "from pyspark.ml.feature import StringIndexer, OneHotEncoder\n",
    "from pyspark.ml.feature import VectorAssembler"
   ]
  },
  {
   "cell_type": "code",
   "execution_count": 19,
   "metadata": {
    "id": "-ZZxxxKLZnOF"
   },
   "outputs": [
    {
     "data": {
      "text/plain": [
       "['Cruise_line']"
      ]
     },
     "execution_count": 19,
     "metadata": {},
     "output_type": "execute_result"
    }
   ],
   "source": [
    "categoricalCols = [field for (field, dataType) in df.dtypes\n",
    "                   if dataType == \"string\" and field !='Ship_name']\n",
    "categoricalCols"
   ]
  },
  {
   "cell_type": "code",
   "execution_count": 20,
   "metadata": {},
   "outputs": [
    {
     "data": {
      "text/plain": [
       "['Cruise_line_Index']"
      ]
     },
     "execution_count": 20,
     "metadata": {},
     "output_type": "execute_result"
    }
   ],
   "source": [
    "indexOutputCols = [x + \"_Index\" for x in categoricalCols]\n",
    "indexOutputCols"
   ]
  },
  {
   "cell_type": "code",
   "execution_count": 21,
   "metadata": {},
   "outputs": [
    {
     "data": {
      "text/plain": [
       "['Cruise_line_OHE']"
      ]
     },
     "execution_count": 21,
     "metadata": {},
     "output_type": "execute_result"
    }
   ],
   "source": [
    "oheOutputCols = [x + \"_OHE\" for x in categoricalCols]\n",
    "oheOutputCols"
   ]
  },
  {
   "cell_type": "code",
   "execution_count": 22,
   "metadata": {},
   "outputs": [],
   "source": [
    "stringIndexer = StringIndexer(inputCols=categoricalCols,\n",
    "                             outputCols=indexOutputCols,\n",
    "                             handleInvalid='skip')\n",
    "oheEncoder = OneHotEncoder(inputCols=indexOutputCols,\n",
    "                          outputCols=oheOutputCols)"
   ]
  },
  {
   "cell_type": "code",
   "execution_count": 23,
   "metadata": {},
   "outputs": [
    {
     "data": {
      "text/plain": [
       "['Tonnage', 'passengers', 'length', 'cabins', 'passenger_density']"
      ]
     },
     "execution_count": 23,
     "metadata": {},
     "output_type": "execute_result"
    }
   ],
   "source": [
    "numericCols = [field for (field,dataType) in df.dtypes\n",
    "              if ((dataType=='double')& (field!='crew'))]\n",
    "numericCols"
   ]
  },
  {
   "cell_type": "code",
   "execution_count": 24,
   "metadata": {},
   "outputs": [
    {
     "data": {
      "text/plain": [
       "['Cruise_line_OHE',\n",
       " 'Tonnage',\n",
       " 'passengers',\n",
       " 'length',\n",
       " 'cabins',\n",
       " 'passenger_density']"
      ]
     },
     "execution_count": 24,
     "metadata": {},
     "output_type": "execute_result"
    }
   ],
   "source": [
    "assemblerInputs = oheOutputCols + numericCols\n",
    "assemblerInputs"
   ]
  },
  {
   "cell_type": "markdown",
   "metadata": {
    "id": "RNCxWem0l662"
   },
   "source": [
    "###Use VectorAssembler to merge all columns into one column:"
   ]
  },
  {
   "cell_type": "code",
   "execution_count": 27,
   "metadata": {
    "id": "pE4ohNjVZnOG"
   },
   "outputs": [
    {
     "data": {
      "text/plain": [
       "VectorAssembler_d58303026d07"
      ]
     },
     "execution_count": 27,
     "metadata": {},
     "output_type": "execute_result"
    }
   ],
   "source": [
    "vecAssembler = VectorAssembler(inputCols=assemblerInputs,outputCol='features')"
   ]
  },
  {
   "cell_type": "markdown",
   "metadata": {
    "id": "Rbf56f6AmUUl"
   },
   "source": [
    "### Create a Linear Regression Model "
   ]
  },
  {
   "cell_type": "code",
   "execution_count": 26,
   "metadata": {
    "id": "nvqnqTkunkNx"
   },
   "outputs": [],
   "source": [
    "from pyspark.ml.regression import LinearRegression\n",
    "\n",
    "lr = LinearRegression(featuresCol='features',labelCol='crew')"
   ]
  },
  {
   "cell_type": "markdown",
   "metadata": {},
   "source": [
    "# Split data"
   ]
  },
  {
   "cell_type": "code",
   "execution_count": 28,
   "metadata": {},
   "outputs": [],
   "source": [
    "X_train, X_test = df.randomSplit([0.8,0.2],seed=0)"
   ]
  },
  {
   "cell_type": "markdown",
   "metadata": {
    "id": "dVdxQTcSC6Cz"
   },
   "source": [
    "### Creating a Pipeline"
   ]
  },
  {
   "cell_type": "code",
   "execution_count": 29,
   "metadata": {
    "id": "UqM9HxkNIHwE"
   },
   "outputs": [],
   "source": [
    "# Building the pipeline\n",
    "from pyspark.ml import Pipeline\n",
    "\n",
    "pipeline = Pipeline(stages=[stringIndexer,oheEncoder,vecAssembler,lr])\n",
    "pipelineModel = pipeline.fit(X_train)"
   ]
  },
  {
   "cell_type": "code",
   "execution_count": 30,
   "metadata": {},
   "outputs": [],
   "source": [
    "predDF = pipelineModel.transform(X_test)"
   ]
  },
  {
   "cell_type": "code",
   "execution_count": 31,
   "metadata": {},
   "outputs": [
    {
     "name": "stdout",
     "output_type": "stream",
     "text": [
      "+-------------+----------------+---+------------------+----------+------+------+-----------------+-----+-----------------+---------------+--------------------+------------------+\n",
      "|    Ship_name|     Cruise_line|Age|           Tonnage|passengers|length|cabins|passenger_density| crew|Cruise_line_Index|Cruise_line_OHE|            features|        prediction|\n",
      "+-------------+----------------+---+------------------+----------+------+------+-----------------+-----+-----------------+---------------+--------------------+------------------+\n",
      "|         Dawn|       Norwegian| 11|              90.0|      22.4|  9.65|  11.2|            40.18| 11.0|              4.0| (19,[4],[1.0])|(24,[4,19,20,21,2...|10.712117947988038|\n",
      "|         Dawn|        Princess| 16|            77.499|      19.5|  8.56|  10.5|            39.74|  9.0|              2.0| (19,[2],[1.0])|(24,[2,19,20,21,2...| 9.103494234997342|\n",
      "|      Empress| Royal_Caribbean| 23|            48.563|      20.2|  6.92|   8.0|            24.04| 6.71|              1.0| (19,[1],[1.0])|(24,[1,19,20,21,2...| 4.814907520842229|\n",
      "|  Enchantment| Royal_Caribbean| 16|            74.137|      19.5|  9.16|  9.75|            38.02|  7.6|              1.0| (19,[1],[1.0])|(24,[1,19,20,21,2...| 7.680063045281011|\n",
      "|      Eurodam|Holland_American|  5|              86.0|     21.04|  9.36| 10.22|            40.87|  8.0|              3.0| (19,[3],[1.0])|(24,[3,19,20,21,2...|  9.02278492541252|\n",
      "|  Fascination|        Carnival| 19|            70.367|     20.52|  8.55|  10.2|            34.29|  9.2|              0.0| (19,[0],[1.0])|(24,[0,19,20,21,2...| 9.083643196215782|\n",
      "|      Fortuna|           Costa| 10|             105.0|      27.2|   8.9| 13.56|             38.6|10.68|              5.0| (19,[5],[1.0])|(24,[5,19,20,21,2...|10.867637223112482|\n",
      "|      Freedom| Royal_Caribbean|  7|             158.0|      43.7| 11.12|  18.0|            36.16| 13.6|              1.0| (19,[1],[1.0])|(24,[1,19,20,21,2...| 13.67303365736008|\n",
      "| Independence| Royal_Caribbean|  5|             160.0|     36.34| 11.12| 18.17|            44.03| 13.6|              1.0| (19,[1],[1.0])|(24,[1,19,20,21,2...|14.466867326660239|\n",
      "|       Island|        Princess| 10| 91.62700000000001|     19.74|  9.64|  9.87|            46.42|  9.0|              2.0| (19,[2],[1.0])|(24,[2,19,20,21,2...| 9.522311240409117|\n",
      "|      Liberty| Royal_Caribbean|  6|             158.0|      43.7| 11.25|  18.0|            36.16| 13.6|              1.0| (19,[1],[1.0])|(24,[1,19,20,21,2...|13.747420446192201|\n",
      "|     Liberty*|        Carnival|  8|             110.0|     29.74|  9.51| 14.87|            36.99| 11.6|              0.0| (19,[0],[1.0])|(24,[0,19,20,21,2...|12.600297292941562|\n",
      "|        Libra|            Star| 12|              42.0|      14.8|  7.13|   7.4|            28.38|  6.8|             10.0|(19,[10],[1.0])|(24,[10,19,20,21,...|  7.99885527620041|\n",
      "|        Magic|          Disney| 15|            83.338|      17.5|  9.64|  8.75|            47.62| 9.45|             18.0|(19,[18],[1.0])|(24,[18,19,20,21,...|  9.45498656025972|\n",
      "|      Mariner| Royal_Caribbean| 10|             138.0|     31.14|  10.2| 15.57|            44.32|11.85|              1.0| (19,[1],[1.0])|(24,[1,19,20,21,2...|12.264713644319244|\n",
      "|      Mercury|       Celebrity| 16| 77.71300000000001|     18.82|  8.66|  9.35|            41.29| 9.09|              6.0| (19,[6],[1.0])|(24,[6,19,20,21,2...| 9.150607788495506|\n",
      "|        Opera|             MSC|  9|            59.058|      17.0|  7.63|   8.5|            34.74|  7.4|              7.0| (19,[7],[1.0])|(24,[7,19,20,21,2...| 7.014588150557786|\n",
      "|      Pacific|        Princess| 14|30.276999999999997|      6.86|  5.93|  3.44|            44.14| 3.73|              2.0| (19,[2],[1.0])|(24,[2,19,20,21,2...| 3.138587905729218|\n",
      "|     Paradise|        Carnival| 15|            70.367|     20.52|  8.55|  10.2|            34.29|  9.2|              0.0| (19,[0],[1.0])|(24,[0,19,20,21,2...| 9.083643196215782|\n",
      "|QueenVictoria|          Cunard|  6|              90.0|      20.0|  9.64| 10.29|             45.0|  9.0|             14.0|(19,[14],[1.0])|(24,[14,19,20,21,...|10.069787114553865|\n",
      "+-------------+----------------+---+------------------+----------+------+------+-----------------+-----+-----------------+---------------+--------------------+------------------+\n",
      "only showing top 20 rows\n",
      "\n"
     ]
    }
   ],
   "source": [
    "predDF.show()"
   ]
  },
  {
   "cell_type": "markdown",
   "metadata": {
    "id": "DEbfwhqeHOCc"
   },
   "source": [
    "### Model Evaluation"
   ]
  },
  {
   "cell_type": "code",
   "execution_count": 32,
   "metadata": {},
   "outputs": [
    {
     "name": "stdout",
     "output_type": "stream",
     "text": [
      "RMSE is 0.7\n",
      "R2 is 0.9528590212289405\n"
     ]
    }
   ],
   "source": [
    "# Using RMSE\n",
    "from pyspark.ml.evaluation import RegressionEvaluator\n",
    "\n",
    "regressionEvaluator = RegressionEvaluator(predictionCol='prediction',\n",
    "                                         labelCol='crew',\n",
    "                                         metricName='rmse')\n",
    "\n",
    "rmse = regressionEvaluator.evaluate(predDF)\n",
    "#print(\"RMSE is {:.1f}\".format(rmse))\n",
    "print(f\"RMSE is {rmse:.1f}\")\n",
    "\n",
    "# Using R^2\n",
    "r2 = RegressionEvaluator(predictionCol='prediction',\n",
    "                                         labelCol='crew',\n",
    "                                         metricName='r2').evaluate(predDF)\n",
    "print(f\"R2 is {r2}\")"
   ]
  }
 ],
 "metadata": {
  "language_info": {
   "name": "python"
  },
  "orig_nbformat": 4
 },
 "nbformat": 4,
 "nbformat_minor": 2
}
